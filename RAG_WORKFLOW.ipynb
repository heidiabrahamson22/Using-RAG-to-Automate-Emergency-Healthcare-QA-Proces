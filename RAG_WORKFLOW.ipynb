{
  "nbformat": 4,
  "nbformat_minor": 0,
  "metadata": {
    "colab": {
      "provenance": [],
      "gpuType": "T4"
    },
    "kernelspec": {
      "name": "python3",
      "display_name": "Python 3"
    },
    "language_info": {
      "name": "python"
    },
    "accelerator": "GPU"
  },
  "cells": [
    {
      "cell_type": "code",
      "execution_count": null,
      "metadata": {
        "colab": {
          "base_uri": "https://localhost:8080/"
        },
        "id": "_y_n785Kog_6",
        "outputId": "5af4a398-4065-46f6-a2d6-86e7df452a1c"
      },
      "outputs": [
        {
          "output_type": "stream",
          "name": "stdout",
          "text": [
            "\u001b[2K     \u001b[90m━━━━━━━━━━━━━━━━━━━━━━━━━━━━━━━━━━━━━━━━\u001b[0m \u001b[32m91.0/91.0 kB\u001b[0m \u001b[31m3.5 MB/s\u001b[0m eta \u001b[36m0:00:00\u001b[0m\n",
            "\u001b[2K     \u001b[90m━━━━━━━━━━━━━━━━━━━━━━━━━━━━━━━━━━━━━━━━\u001b[0m \u001b[32m89.9/89.9 kB\u001b[0m \u001b[31m3.2 MB/s\u001b[0m eta \u001b[36m0:00:00\u001b[0m\n",
            "\u001b[2K   \u001b[90m━━━━━━━━━━━━━━━━━━━━━━━━━━━━━━━━━━━━━━━━\u001b[0m \u001b[32m54.7/54.7 kB\u001b[0m \u001b[31m2.7 MB/s\u001b[0m eta \u001b[36m0:00:00\u001b[0m\n",
            "\u001b[2K   \u001b[90m━━━━━━━━━━━━━━━━━━━━━━━━━━━━━━━━━━━━━━━━\u001b[0m \u001b[32m2.5/2.5 MB\u001b[0m \u001b[31m42.4 MB/s\u001b[0m eta \u001b[36m0:00:00\u001b[0m\n",
            "\u001b[2K   \u001b[90m━━━━━━━━━━━━━━━━━━━━━━━━━━━━━━━━━━━━━━━━\u001b[0m \u001b[32m1.0/1.0 MB\u001b[0m \u001b[31m26.4 MB/s\u001b[0m eta \u001b[36m0:00:00\u001b[0m\n",
            "\u001b[2K   \u001b[90m━━━━━━━━━━━━━━━━━━━━━━━━━━━━━━━━━━━━━━━━\u001b[0m \u001b[32m43.8/43.8 kB\u001b[0m \u001b[31m2.0 MB/s\u001b[0m eta \u001b[36m0:00:00\u001b[0m\n",
            "\u001b[2K   \u001b[90m━━━━━━━━━━━━━━━━━━━━━━━━━━━━━━━━━━━━━━━━\u001b[0m \u001b[32m94.8/94.8 kB\u001b[0m \u001b[31m5.9 MB/s\u001b[0m eta \u001b[36m0:00:00\u001b[0m\n",
            "\u001b[2K   \u001b[90m━━━━━━━━━━━━━━━━━━━━━━━━━━━━━━━━━━━━━━━━\u001b[0m \u001b[32m1.3/1.3 MB\u001b[0m \u001b[31m32.9 MB/s\u001b[0m eta \u001b[36m0:00:00\u001b[0m\n",
            "\u001b[2K   \u001b[90m━━━━━━━━━━━━━━━━━━━━━━━━━━━━━━━━━━━━━━━━\u001b[0m \u001b[32m413.0/413.0 kB\u001b[0m \u001b[31m16.1 MB/s\u001b[0m eta \u001b[36m0:00:00\u001b[0m\n",
            "\u001b[2K   \u001b[90m━━━━━━━━━━━━━━━━━━━━━━━━━━━━━━━━━━━━━━━━\u001b[0m \u001b[32m13.1/13.1 MB\u001b[0m \u001b[31m39.3 MB/s\u001b[0m eta \u001b[36m0:00:00\u001b[0m\n",
            "\u001b[2K   \u001b[90m━━━━━━━━━━━━━━━━━━━━━━━━━━━━━━━━━━━━━━━━\u001b[0m \u001b[32m427.3/427.3 kB\u001b[0m \u001b[31m8.9 MB/s\u001b[0m eta \u001b[36m0:00:00\u001b[0m\n",
            "\u001b[2K   \u001b[90m━━━━━━━━━━━━━━━━━━━━━━━━━━━━━━━━━━━━━━━━\u001b[0m \u001b[32m1.2/1.2 MB\u001b[0m \u001b[31m25.3 MB/s\u001b[0m eta \u001b[36m0:00:00\u001b[0m\n",
            "\u001b[2K   \u001b[90m━━━━━━━━━━━━━━━━━━━━━━━━━━━━━━━━━━━━━━━━\u001b[0m \u001b[32m50.9/50.9 kB\u001b[0m \u001b[31m1.7 MB/s\u001b[0m eta \u001b[36m0:00:00\u001b[0m\n",
            "\u001b[2K   \u001b[90m━━━━━━━━━━━━━━━━━━━━━━━━━━━━━━━━━━━━━━━━\u001b[0m \u001b[32m87.5/87.5 kB\u001b[0m \u001b[31m3.5 MB/s\u001b[0m eta \u001b[36m0:00:00\u001b[0m\n",
            "\u001b[2K   \u001b[90m━━━━━━━━━━━━━━━━━━━━━━━━━━━━━━━━━━━━━━━━\u001b[0m \u001b[32m3.3/3.3 MB\u001b[0m \u001b[31m8.1 MB/s\u001b[0m eta \u001b[36m0:00:00\u001b[0m\n",
            "\u001b[2K   \u001b[90m━━━━━━━━━━━━━━━━━━━━━━━━━━━━━━━━━━━━━━━━\u001b[0m \u001b[32m50.3/50.3 kB\u001b[0m \u001b[31m3.6 MB/s\u001b[0m eta \u001b[36m0:00:00\u001b[0m\n",
            "\u001b[?25h\u001b[31mERROR: pip's dependency resolver does not currently take into account all the packages that are installed. This behaviour is the source of the following dependency conflicts.\n",
            "google-colab 1.0.0 requires pandas==2.2.2, but you have pandas 2.2.3 which is incompatible.\u001b[0m\u001b[31m\n",
            "\u001b[0m"
          ]
        }
      ],
      "source": [
        "!pip install langchain langchain_openai openai langchain-pinecone pinecone-notebooks langchain-community tavily-python smolagents --quiet"
      ]
    },
    {
      "cell_type": "code",
      "source": [
        "import pandas as pd\n",
        "import os\n",
        "import json\n",
        "from langchain_openai import OpenAIEmbeddings\n",
        "from langchain_openai import ChatOpenAI\n",
        "from langchain.chains import RetrievalQA\n",
        "from pinecone import Pinecone, ServerlessSpec\n",
        "from langchain_pinecone import PineconeVectorStore\n",
        "from langsmith import traceable\n",
        "from langchain.schema import HumanMessage, SystemMessage, AIMessage\n",
        "from langchain.chains import create_retrieval_chain\n",
        "from langchain.chains.combine_documents import create_stuff_documents_chain\n",
        "from langchain_core.prompts import ChatPromptTemplate\n",
        "from langchain_community.tools.tavily_search import TavilySearchResults\n",
        "from smolagents import CodeAgent, ToolCallingAgent, ManagedAgent, DuckDuckGoSearchTool, VisitWebpageTool"
      ],
      "metadata": {
        "id": "_vQRluiqopSU",
        "colab": {
          "base_uri": "https://localhost:8080/",
          "height": 357
        },
        "outputId": "ac070579-cd55-4fc2-e947-7e8c7bca87f5",
        "collapsed": true
      },
      "execution_count": null,
      "outputs": [
        {
          "output_type": "error",
          "ename": "ImportError",
          "evalue": "cannot import name 'ManagedAgent' from 'smolagents' (/usr/local/lib/python3.11/dist-packages/smolagents/__init__.py)",
          "traceback": [
            "\u001b[0;31m---------------------------------------------------------------------------\u001b[0m",
            "\u001b[0;31mImportError\u001b[0m                               Traceback (most recent call last)",
            "\u001b[0;32m<ipython-input-3-3e337686af6b>\u001b[0m in \u001b[0;36m<cell line: 0>\u001b[0;34m()\u001b[0m\n\u001b[1;32m     13\u001b[0m \u001b[0;32mfrom\u001b[0m \u001b[0mlangchain_core\u001b[0m\u001b[0;34m.\u001b[0m\u001b[0mprompts\u001b[0m \u001b[0;32mimport\u001b[0m \u001b[0mChatPromptTemplate\u001b[0m\u001b[0;34m\u001b[0m\u001b[0;34m\u001b[0m\u001b[0m\n\u001b[1;32m     14\u001b[0m \u001b[0;32mfrom\u001b[0m \u001b[0mlangchain_community\u001b[0m\u001b[0;34m.\u001b[0m\u001b[0mtools\u001b[0m\u001b[0;34m.\u001b[0m\u001b[0mtavily_search\u001b[0m \u001b[0;32mimport\u001b[0m \u001b[0mTavilySearchResults\u001b[0m\u001b[0;34m\u001b[0m\u001b[0;34m\u001b[0m\u001b[0m\n\u001b[0;32m---> 15\u001b[0;31m \u001b[0;32mfrom\u001b[0m \u001b[0msmolagents\u001b[0m \u001b[0;32mimport\u001b[0m \u001b[0mCodeAgent\u001b[0m\u001b[0;34m,\u001b[0m \u001b[0mToolCallingAgent\u001b[0m\u001b[0;34m,\u001b[0m \u001b[0mManagedAgent\u001b[0m\u001b[0;34m,\u001b[0m \u001b[0mDuckDuckGoSearchTool\u001b[0m\u001b[0;34m,\u001b[0m \u001b[0mVisitWebpageTool\u001b[0m\u001b[0;34m\u001b[0m\u001b[0;34m\u001b[0m\u001b[0m\n\u001b[0m",
            "\u001b[0;31mImportError\u001b[0m: cannot import name 'ManagedAgent' from 'smolagents' (/usr/local/lib/python3.11/dist-packages/smolagents/__init__.py)",
            "",
            "\u001b[0;31m---------------------------------------------------------------------------\u001b[0;32m\nNOTE: If your import is failing due to a missing package, you can\nmanually install dependencies using either !pip or !apt.\n\nTo view examples of installing some common dependencies, click the\n\"Open Examples\" button below.\n\u001b[0;31m---------------------------------------------------------------------------\u001b[0m\n"
          ],
          "errorDetails": {
            "actions": [
              {
                "action": "open_url",
                "actionText": "Open Examples",
                "url": "/notebooks/snippets/importing_libraries.ipynb"
              }
            ]
          }
        }
      ]
    },
    {
      "cell_type": "code",
      "source": [
        "pd.set_option('display.max_columns', None)  # Show all columns\n",
        "pd.set_option('display.width', 1000)  # Set display width\n",
        "pd.set_option('display.max_colwidth', None)  # Allow long text in a single cell"
      ],
      "metadata": {
        "id": "Inm6V_aktOqU"
      },
      "execution_count": null,
      "outputs": []
    },
    {
      "cell_type": "markdown",
      "source": [
        "**Setting API KEYS and Importing Data**"
      ],
      "metadata": {
        "id": "_44d44m_PGWT"
      }
    },
    {
      "cell_type": "code",
      "source": [
        "os.environ[\"PINECONE_API_KEY\"]=\"API KEY\"\n",
        "os.environ['LANGCHAIN_TRACING_V2'] = 'true'\n",
        "os.environ['LANGCHAIN_ENDPOINT'] = 'https://api.smith.langchain.com'\n",
        "os.environ['LANGCHAIN_API_KEY'] = \"API KEY\""
      ],
      "metadata": {
        "id": "a9MnXjAYotqa"
      },
      "execution_count": null,
      "outputs": []
    },
    {
      "cell_type": "code",
      "source": [
        "from google.colab import drive\n",
        "drive.mount('/content/drive')"
      ],
      "metadata": {
        "colab": {
          "base_uri": "https://localhost:8080/"
        },
        "id": "UEZ2xHmjo-qZ",
        "outputId": "8e554617-25a9-4ce9-8525-19af7d45fd86"
      },
      "execution_count": null,
      "outputs": [
        {
          "output_type": "stream",
          "name": "stdout",
          "text": [
            "Mounted at /content/drive\n"
          ]
        }
      ]
    },
    {
      "cell_type": "code",
      "source": [
        "demographics = pd.read_parquet('/content/drive/MyDrive/Data/demographics.parquet')\n",
        "diagnoses = pd.read_parquet('/content/drive/MyDrive/Data/diagnoses.parquet')\n",
        "medications = pd.read_parquet('/content/drive/MyDrive/Data/medications.parquet')\n",
        "notes = pd.read_parquet('/content/drive/MyDrive/Data/notes.parquet')\n",
        "orders = pd.read_parquet('/content/drive/MyDrive/Data/orders.parquet')\n",
        "vitals = pd.read_parquet('/content/drive/MyDrive/Data/vitals.parquet')\n",
        "ordersclassified = pd.read_csv('/content/drive/MyDrive/Data/cleaned_orders.csv')"
      ],
      "metadata": {
        "id": "Dd1iCSTGpB6L"
      },
      "execution_count": null,
      "outputs": []
    },
    {
      "cell_type": "markdown",
      "source": [
        "**Initializing Vector Store**"
      ],
      "metadata": {
        "id": "9PB5jXFxPMMj"
      }
    },
    {
      "cell_type": "code",
      "source": [
        "pc = Pinecone()"
      ],
      "metadata": {
        "id": "khzdtYrZpHhC"
      },
      "execution_count": null,
      "outputs": []
    },
    {
      "cell_type": "code",
      "source": [
        "embeddings=OpenAIEmbeddings(openai_api_key=\"API KEY\")"
      ],
      "metadata": {
        "id": "wp8pnuK3pPHD"
      },
      "execution_count": null,
      "outputs": []
    },
    {
      "cell_type": "code",
      "source": [
        "index = pc.Index(\"estimating-ehr-costs\")\n",
        "vector_store = PineconeVectorStore(index=index, embedding=embeddings)"
      ],
      "metadata": {
        "id": "d6K-sV5vpP_1"
      },
      "execution_count": null,
      "outputs": []
    },
    {
      "cell_type": "code",
      "source": [
        "index_stats = index.describe_index_stats()\n",
        "index_stats"
      ],
      "metadata": {
        "colab": {
          "base_uri": "https://localhost:8080/"
        },
        "id": "pEFtn27GDrSe",
        "outputId": "188db438-349f-4732-b760-a53712422a9f"
      },
      "execution_count": null,
      "outputs": [
        {
          "output_type": "execute_result",
          "data": {
            "text/plain": [
              "{'dimension': 1536,\n",
              " 'index_fullness': 0.0,\n",
              " 'namespaces': {'': {'vector_count': 83555}},\n",
              " 'total_vector_count': 83555}"
            ]
          },
          "metadata": {},
          "execution_count": 11
        }
      ]
    },
    {
      "cell_type": "markdown",
      "source": [
        "**Filtering for CT Chest Scan Orders >= 18 years Old**"
      ],
      "metadata": {
        "id": "UeN1J9FfpKg0"
      }
    },
    {
      "cell_type": "code",
      "source": [
        "ct_chest_orders = ordersclassified[ordersclassified[\"Ed's Term\"]=='CT chest']\n",
        "ct_orders_dem = pd.merge(ct_chest_orders, demographics, on=\"VisitKey_hashed\", how=\"left\")\n",
        "acep22orders = ct_orders_dem[(ct_orders_dem['age_group'].apply(lambda x: int(x.split('-')[0].replace('+', '')) >= 20))]\n"
      ],
      "metadata": {
        "id": "MxrB1bQipVsX"
      },
      "execution_count": null,
      "outputs": []
    },
    {
      "cell_type": "code",
      "source": [
        "# Drop duplicates based on 'VisitKey_hashed' and keep the first occurrence\n",
        "acep22_visits = acep22orders[['VisitKey_hashed', 'LocationID_hashed']].drop_duplicates(subset='VisitKey_hashed', keep='first')"
      ],
      "metadata": {
        "id": "Kok2jAerprWw"
      },
      "execution_count": null,
      "outputs": []
    },
    {
      "cell_type": "code",
      "source": [
        "set(demographics['LocationID_hashed']) == set(notes['FacilityCode_hashed'])"
      ],
      "metadata": {
        "colab": {
          "base_uri": "https://localhost:8080/"
        },
        "id": "d41A5vur6kCj",
        "outputId": "9c7de813-3540-4c44-ed42-8a24b72793dc"
      },
      "execution_count": null,
      "outputs": [
        {
          "output_type": "execute_result",
          "data": {
            "text/plain": [
              "True"
            ]
          },
          "metadata": {},
          "execution_count": 14
        }
      ]
    },
    {
      "cell_type": "code",
      "source": [
        "acep22_visits.groupby('LocationID_hashed').count().sort_values(by='VisitKey_hashed', ascending=False)"
      ],
      "metadata": {
        "colab": {
          "base_uri": "https://localhost:8080/",
          "height": 455
        },
        "id": "WyPBLKRtq_m7",
        "outputId": "aeb90dd3-6e44-4ec7-f8b0-39a0079656ef",
        "collapsed": true
      },
      "execution_count": null,
      "outputs": [
        {
          "output_type": "execute_result",
          "data": {
            "text/plain": [
              "                                                                  VisitKey_hashed\n",
              "LocationID_hashed                                                                \n",
              "2b4da2f6b7d30484b4962a682c5390aa823537fb78176a1ba55c59b2af2ba99b              158\n",
              "9ac202a84e32bf103066d58172339c2dd76980af8412da04d2de0a6adf91c654              128\n",
              "9eeabd9a714b2a462e6fd844ef0ab3dd95e3f3f8734cdd2f17cfbdee936fc9a1               75\n",
              "aeb2ef0493ab863f1fd0c64bc5cc74b1447517e8aa10590001870d4e4632e585               72\n",
              "3db45dff765ac59f43dfad9730315613930c16720c694c59bb44d5e733a15577               71\n",
              "...                                                                           ...\n",
              "55c85b838d6dd4d4ae090a3a01397b178d503621e2e36125a60adba09c4701ca                1\n",
              "a2c3ce79071d865fc225352f416f97c2470ba60310a1801cf61bb7003049314f                1\n",
              "d9b38f038fb2f27e927b8be0a754b237b703fae561cb264ec0c0a5ada8788cf8                1\n",
              "e9e1072aff090f8934296e35fb9cc2042821a5190c09f7a0cb713785937bb71e                1\n",
              "f689e709e0b03950b9601921ec49e016bb4b9bb920dab0084df7d1b7e5757e0e                1\n",
              "\n",
              "[61 rows x 1 columns]"
            ],
            "text/html": [
              "\n",
              "  <div id=\"df-dd44d714-48ad-44d4-9a32-57078b2d89e7\" class=\"colab-df-container\">\n",
              "    <div>\n",
              "<style scoped>\n",
              "    .dataframe tbody tr th:only-of-type {\n",
              "        vertical-align: middle;\n",
              "    }\n",
              "\n",
              "    .dataframe tbody tr th {\n",
              "        vertical-align: top;\n",
              "    }\n",
              "\n",
              "    .dataframe thead th {\n",
              "        text-align: right;\n",
              "    }\n",
              "</style>\n",
              "<table border=\"1\" class=\"dataframe\">\n",
              "  <thead>\n",
              "    <tr style=\"text-align: right;\">\n",
              "      <th></th>\n",
              "      <th>VisitKey_hashed</th>\n",
              "    </tr>\n",
              "    <tr>\n",
              "      <th>LocationID_hashed</th>\n",
              "      <th></th>\n",
              "    </tr>\n",
              "  </thead>\n",
              "  <tbody>\n",
              "    <tr>\n",
              "      <th>2b4da2f6b7d30484b4962a682c5390aa823537fb78176a1ba55c59b2af2ba99b</th>\n",
              "      <td>158</td>\n",
              "    </tr>\n",
              "    <tr>\n",
              "      <th>9ac202a84e32bf103066d58172339c2dd76980af8412da04d2de0a6adf91c654</th>\n",
              "      <td>128</td>\n",
              "    </tr>\n",
              "    <tr>\n",
              "      <th>9eeabd9a714b2a462e6fd844ef0ab3dd95e3f3f8734cdd2f17cfbdee936fc9a1</th>\n",
              "      <td>75</td>\n",
              "    </tr>\n",
              "    <tr>\n",
              "      <th>aeb2ef0493ab863f1fd0c64bc5cc74b1447517e8aa10590001870d4e4632e585</th>\n",
              "      <td>72</td>\n",
              "    </tr>\n",
              "    <tr>\n",
              "      <th>3db45dff765ac59f43dfad9730315613930c16720c694c59bb44d5e733a15577</th>\n",
              "      <td>71</td>\n",
              "    </tr>\n",
              "    <tr>\n",
              "      <th>...</th>\n",
              "      <td>...</td>\n",
              "    </tr>\n",
              "    <tr>\n",
              "      <th>55c85b838d6dd4d4ae090a3a01397b178d503621e2e36125a60adba09c4701ca</th>\n",
              "      <td>1</td>\n",
              "    </tr>\n",
              "    <tr>\n",
              "      <th>a2c3ce79071d865fc225352f416f97c2470ba60310a1801cf61bb7003049314f</th>\n",
              "      <td>1</td>\n",
              "    </tr>\n",
              "    <tr>\n",
              "      <th>d9b38f038fb2f27e927b8be0a754b237b703fae561cb264ec0c0a5ada8788cf8</th>\n",
              "      <td>1</td>\n",
              "    </tr>\n",
              "    <tr>\n",
              "      <th>e9e1072aff090f8934296e35fb9cc2042821a5190c09f7a0cb713785937bb71e</th>\n",
              "      <td>1</td>\n",
              "    </tr>\n",
              "    <tr>\n",
              "      <th>f689e709e0b03950b9601921ec49e016bb4b9bb920dab0084df7d1b7e5757e0e</th>\n",
              "      <td>1</td>\n",
              "    </tr>\n",
              "  </tbody>\n",
              "</table>\n",
              "<p>61 rows × 1 columns</p>\n",
              "</div>\n",
              "    <div class=\"colab-df-buttons\">\n",
              "\n",
              "  <div class=\"colab-df-container\">\n",
              "    <button class=\"colab-df-convert\" onclick=\"convertToInteractive('df-dd44d714-48ad-44d4-9a32-57078b2d89e7')\"\n",
              "            title=\"Convert this dataframe to an interactive table.\"\n",
              "            style=\"display:none;\">\n",
              "\n",
              "  <svg xmlns=\"http://www.w3.org/2000/svg\" height=\"24px\" viewBox=\"0 -960 960 960\">\n",
              "    <path d=\"M120-120v-720h720v720H120Zm60-500h600v-160H180v160Zm220 220h160v-160H400v160Zm0 220h160v-160H400v160ZM180-400h160v-160H180v160Zm440 0h160v-160H620v160ZM180-180h160v-160H180v160Zm440 0h160v-160H620v160Z\"/>\n",
              "  </svg>\n",
              "    </button>\n",
              "\n",
              "  <style>\n",
              "    .colab-df-container {\n",
              "      display:flex;\n",
              "      gap: 12px;\n",
              "    }\n",
              "\n",
              "    .colab-df-convert {\n",
              "      background-color: #E8F0FE;\n",
              "      border: none;\n",
              "      border-radius: 50%;\n",
              "      cursor: pointer;\n",
              "      display: none;\n",
              "      fill: #1967D2;\n",
              "      height: 32px;\n",
              "      padding: 0 0 0 0;\n",
              "      width: 32px;\n",
              "    }\n",
              "\n",
              "    .colab-df-convert:hover {\n",
              "      background-color: #E2EBFA;\n",
              "      box-shadow: 0px 1px 2px rgba(60, 64, 67, 0.3), 0px 1px 3px 1px rgba(60, 64, 67, 0.15);\n",
              "      fill: #174EA6;\n",
              "    }\n",
              "\n",
              "    .colab-df-buttons div {\n",
              "      margin-bottom: 4px;\n",
              "    }\n",
              "\n",
              "    [theme=dark] .colab-df-convert {\n",
              "      background-color: #3B4455;\n",
              "      fill: #D2E3FC;\n",
              "    }\n",
              "\n",
              "    [theme=dark] .colab-df-convert:hover {\n",
              "      background-color: #434B5C;\n",
              "      box-shadow: 0px 1px 3px 1px rgba(0, 0, 0, 0.15);\n",
              "      filter: drop-shadow(0px 1px 2px rgba(0, 0, 0, 0.3));\n",
              "      fill: #FFFFFF;\n",
              "    }\n",
              "  </style>\n",
              "\n",
              "    <script>\n",
              "      const buttonEl =\n",
              "        document.querySelector('#df-dd44d714-48ad-44d4-9a32-57078b2d89e7 button.colab-df-convert');\n",
              "      buttonEl.style.display =\n",
              "        google.colab.kernel.accessAllowed ? 'block' : 'none';\n",
              "\n",
              "      async function convertToInteractive(key) {\n",
              "        const element = document.querySelector('#df-dd44d714-48ad-44d4-9a32-57078b2d89e7');\n",
              "        const dataTable =\n",
              "          await google.colab.kernel.invokeFunction('convertToInteractive',\n",
              "                                                    [key], {});\n",
              "        if (!dataTable) return;\n",
              "\n",
              "        const docLinkHtml = 'Like what you see? Visit the ' +\n",
              "          '<a target=\"_blank\" href=https://colab.research.google.com/notebooks/data_table.ipynb>data table notebook</a>'\n",
              "          + ' to learn more about interactive tables.';\n",
              "        element.innerHTML = '';\n",
              "        dataTable['output_type'] = 'display_data';\n",
              "        await google.colab.output.renderOutput(dataTable, element);\n",
              "        const docLink = document.createElement('div');\n",
              "        docLink.innerHTML = docLinkHtml;\n",
              "        element.appendChild(docLink);\n",
              "      }\n",
              "    </script>\n",
              "  </div>\n",
              "\n",
              "\n",
              "<div id=\"df-75850015-ca65-413c-87a9-8eeecd126653\">\n",
              "  <button class=\"colab-df-quickchart\" onclick=\"quickchart('df-75850015-ca65-413c-87a9-8eeecd126653')\"\n",
              "            title=\"Suggest charts\"\n",
              "            style=\"display:none;\">\n",
              "\n",
              "<svg xmlns=\"http://www.w3.org/2000/svg\" height=\"24px\"viewBox=\"0 0 24 24\"\n",
              "     width=\"24px\">\n",
              "    <g>\n",
              "        <path d=\"M19 3H5c-1.1 0-2 .9-2 2v14c0 1.1.9 2 2 2h14c1.1 0 2-.9 2-2V5c0-1.1-.9-2-2-2zM9 17H7v-7h2v7zm4 0h-2V7h2v10zm4 0h-2v-4h2v4z\"/>\n",
              "    </g>\n",
              "</svg>\n",
              "  </button>\n",
              "\n",
              "<style>\n",
              "  .colab-df-quickchart {\n",
              "      --bg-color: #E8F0FE;\n",
              "      --fill-color: #1967D2;\n",
              "      --hover-bg-color: #E2EBFA;\n",
              "      --hover-fill-color: #174EA6;\n",
              "      --disabled-fill-color: #AAA;\n",
              "      --disabled-bg-color: #DDD;\n",
              "  }\n",
              "\n",
              "  [theme=dark] .colab-df-quickchart {\n",
              "      --bg-color: #3B4455;\n",
              "      --fill-color: #D2E3FC;\n",
              "      --hover-bg-color: #434B5C;\n",
              "      --hover-fill-color: #FFFFFF;\n",
              "      --disabled-bg-color: #3B4455;\n",
              "      --disabled-fill-color: #666;\n",
              "  }\n",
              "\n",
              "  .colab-df-quickchart {\n",
              "    background-color: var(--bg-color);\n",
              "    border: none;\n",
              "    border-radius: 50%;\n",
              "    cursor: pointer;\n",
              "    display: none;\n",
              "    fill: var(--fill-color);\n",
              "    height: 32px;\n",
              "    padding: 0;\n",
              "    width: 32px;\n",
              "  }\n",
              "\n",
              "  .colab-df-quickchart:hover {\n",
              "    background-color: var(--hover-bg-color);\n",
              "    box-shadow: 0 1px 2px rgba(60, 64, 67, 0.3), 0 1px 3px 1px rgba(60, 64, 67, 0.15);\n",
              "    fill: var(--button-hover-fill-color);\n",
              "  }\n",
              "\n",
              "  .colab-df-quickchart-complete:disabled,\n",
              "  .colab-df-quickchart-complete:disabled:hover {\n",
              "    background-color: var(--disabled-bg-color);\n",
              "    fill: var(--disabled-fill-color);\n",
              "    box-shadow: none;\n",
              "  }\n",
              "\n",
              "  .colab-df-spinner {\n",
              "    border: 2px solid var(--fill-color);\n",
              "    border-color: transparent;\n",
              "    border-bottom-color: var(--fill-color);\n",
              "    animation:\n",
              "      spin 1s steps(1) infinite;\n",
              "  }\n",
              "\n",
              "  @keyframes spin {\n",
              "    0% {\n",
              "      border-color: transparent;\n",
              "      border-bottom-color: var(--fill-color);\n",
              "      border-left-color: var(--fill-color);\n",
              "    }\n",
              "    20% {\n",
              "      border-color: transparent;\n",
              "      border-left-color: var(--fill-color);\n",
              "      border-top-color: var(--fill-color);\n",
              "    }\n",
              "    30% {\n",
              "      border-color: transparent;\n",
              "      border-left-color: var(--fill-color);\n",
              "      border-top-color: var(--fill-color);\n",
              "      border-right-color: var(--fill-color);\n",
              "    }\n",
              "    40% {\n",
              "      border-color: transparent;\n",
              "      border-right-color: var(--fill-color);\n",
              "      border-top-color: var(--fill-color);\n",
              "    }\n",
              "    60% {\n",
              "      border-color: transparent;\n",
              "      border-right-color: var(--fill-color);\n",
              "    }\n",
              "    80% {\n",
              "      border-color: transparent;\n",
              "      border-right-color: var(--fill-color);\n",
              "      border-bottom-color: var(--fill-color);\n",
              "    }\n",
              "    90% {\n",
              "      border-color: transparent;\n",
              "      border-bottom-color: var(--fill-color);\n",
              "    }\n",
              "  }\n",
              "</style>\n",
              "\n",
              "  <script>\n",
              "    async function quickchart(key) {\n",
              "      const quickchartButtonEl =\n",
              "        document.querySelector('#' + key + ' button');\n",
              "      quickchartButtonEl.disabled = true;  // To prevent multiple clicks.\n",
              "      quickchartButtonEl.classList.add('colab-df-spinner');\n",
              "      try {\n",
              "        const charts = await google.colab.kernel.invokeFunction(\n",
              "            'suggestCharts', [key], {});\n",
              "      } catch (error) {\n",
              "        console.error('Error during call to suggestCharts:', error);\n",
              "      }\n",
              "      quickchartButtonEl.classList.remove('colab-df-spinner');\n",
              "      quickchartButtonEl.classList.add('colab-df-quickchart-complete');\n",
              "    }\n",
              "    (() => {\n",
              "      let quickchartButtonEl =\n",
              "        document.querySelector('#df-75850015-ca65-413c-87a9-8eeecd126653 button');\n",
              "      quickchartButtonEl.style.display =\n",
              "        google.colab.kernel.accessAllowed ? 'block' : 'none';\n",
              "    })();\n",
              "  </script>\n",
              "</div>\n",
              "\n",
              "    </div>\n",
              "  </div>\n"
            ],
            "application/vnd.google.colaboratory.intrinsic+json": {
              "type": "dataframe",
              "summary": "{\n  \"name\": \"acep22_visits\",\n  \"rows\": 61,\n  \"fields\": [\n    {\n      \"column\": \"LocationID_hashed\",\n      \"properties\": {\n        \"dtype\": \"string\",\n        \"num_unique_values\": 61,\n        \"samples\": [\n          \"2b4da2f6b7d30484b4962a682c5390aa823537fb78176a1ba55c59b2af2ba99b\",\n          \"17943bd76494fc1e8b355bb83f397a8d1e203e49a4a21d4b19b597bc87ba4088\",\n          \"65b98da0abcb56bc360bde60b83735d9270fc5ceaa2ab3b0a666bbeefed72c4b\"\n        ],\n        \"semantic_type\": \"\",\n        \"description\": \"\"\n      }\n    },\n    {\n      \"column\": \"VisitKey_hashed\",\n      \"properties\": {\n        \"dtype\": \"number\",\n        \"std\": 28,\n        \"min\": 1,\n        \"max\": 158,\n        \"num_unique_values\": 27,\n        \"samples\": [\n          24,\n          17,\n          23\n        ],\n        \"semantic_type\": \"\",\n        \"description\": \"\"\n      }\n    }\n  ]\n}"
            }
          },
          "metadata": {},
          "execution_count": 15
        }
      ]
    },
    {
      "cell_type": "markdown",
      "source": [
        "**Filtering on a Specific Medical Center**"
      ],
      "metadata": {
        "id": "-bKdIwCPpYRY"
      }
    },
    {
      "cell_type": "code",
      "source": [
        "visits_for_rag = acep22_visits[acep22_visits.LocationID_hashed == '2b4da2f6b7d30484b4962a682c5390aa823537fb78176a1ba55c59b2af2ba99b'][0:25]"
      ],
      "metadata": {
        "id": "OVmDPmgLrS-1"
      },
      "execution_count": null,
      "outputs": []
    },
    {
      "cell_type": "markdown",
      "source": [
        "**Initializing LLM**"
      ],
      "metadata": {
        "id": "rUZYJ9SdOHNH"
      }
    },
    {
      "cell_type": "code",
      "source": [
        "llm = ChatOpenAI(\n",
        "    model=\"openai/gpt-4o-mini\",  # You can switch to other models supported by OpenRouter\n",
        "    temperature=0,\n",
        "    openai_api_key=\"API KEY\",\n",
        "    openai_api_base=\"https://openrouter.ai/api/v1\" # Specify the base URL for OpenRouter\n",
        ")"
      ],
      "metadata": {
        "id": "eqp9R6sersRA"
      },
      "execution_count": null,
      "outputs": []
    },
    {
      "cell_type": "code",
      "source": [
        "import requests\n",
        "\n",
        "# Replace <OPENROUTER_API_KEY> with your actual API key\n",
        "OPENROUTER_API_KEY = \"API KEY\"\n",
        "\n",
        "# Define the API endpoint and headers\n",
        "url = \"https://openrouter.ai/api/v1/auth/key\"\n",
        "headers = {\n",
        "    \"Authorization\": f\"Bearer {OPENROUTER_API_KEY}\"\n",
        "}\n",
        "\n",
        "try:\n",
        "    # Send the GET request\n",
        "    response = requests.get(url, headers=headers)\n",
        "    response.raise_for_status()  # Raise an exception for HTTP errors\n",
        "\n",
        "    # Parse the JSON response\n",
        "    data = response.json()\n",
        "    print(\"Label:\", data[\"data\"][\"label\"])\n",
        "    print(\"Usage:\", data[\"data\"][\"usage\"])  # Number of credits used\n",
        "    print(\"Limit:\", data[\"data\"][\"limit\"])  # Credit limit for the key, or None if unlimited\n",
        "    print(\"Is Free Tier:\", data[\"data\"][\"is_free_tier\"])\n",
        "    print(\"Rate Limit:\", data[\"data\"][\"rate_limit\"])\n",
        "\n",
        "except requests.exceptions.RequestException as e:\n",
        "    print(\"Error:\", e)\n"
      ],
      "metadata": {
        "colab": {
          "base_uri": "https://localhost:8080/"
        },
        "id": "5b5_kNjlzCWi",
        "outputId": "df48342e-8319-4e4b-cf32-1238e87a01f4"
      },
      "execution_count": null,
      "outputs": [
        {
          "output_type": "stream",
          "name": "stdout",
          "text": [
            "Label: sk-or-v1-7c5...04d\n",
            "Usage: 0.3511502055\n",
            "Limit: None\n",
            "Is Free Tier: False\n",
            "Rate Limit: {'requests': 840, 'interval': '10s'}\n"
          ]
        }
      ]
    },
    {
      "cell_type": "markdown",
      "source": [
        "**Creating Agent that Should Take A Question and Look up More information on it On MD Calc to Support Answer**"
      ],
      "metadata": {
        "id": "YvK1hdV4Pncy"
      }
    },
    {
      "cell_type": "code",
      "source": [
        "os.environ[\"TAVILY_API_KEY\"] = \"API KEY\"\n",
        "search_tool = TavilySearchResults(\n",
        "  name=\"tavily_search_engine\",\n",
        "  description=\"A search engine optimized for retrieving information from web based on user query.\",\n",
        "  max_results=4,\n",
        "  search_depth=\"advanced\",\n",
        "  include_answer=True,\n",
        "  include_raw_content=True,\n",
        "  include_images=True,\n",
        "  verbose=False,\n",
        ")"
      ],
      "metadata": {
        "id": "8CJP7Czx7hhn"
      },
      "execution_count": null,
      "outputs": []
    },
    {
      "cell_type": "code",
      "source": [
        "from langchain_core.prompts import (\n",
        "  ChatPromptTemplate,\n",
        ")\n",
        "prompt = ChatPromptTemplate([\n",
        "  (\"system\",\n",
        "  f\"\"\"You are a medical chatbot that aims to help physicians diagnose their medical notes. You need to answer the user's queries in\n",
        "  detail from the document context. You have access to two tools:\n",
        "  pinecone_vectorstore_retriever and tavily_search_engine.\n",
        "  Before extracting the information from the pinecone_vectorstore_retriever, use the tavily_search_engine to open mdcalc.com and search for the necessary information to answer the question.\n",
        "  If the tavily_search_engine is used, specify what website was used to extract this information.\n",
        "  Only look up information when you are sure of what you want.\n",
        "  If you need to look up some information before asking a follow up question, you are allowed to do that.\n",
        "  Always use the pinecone_vectorstore_retriever tool first to retrieve the context and answer the question. NEVER give an incomplete answer.\n",
        "  When using the pinecone_vectorstore_retriever tool, specify where the information is extracted from.\n",
        "  Always try your best to find answer through web search if answer is not found from context.\"\"\"),\n",
        "  (\"human\", \"{user_input}\"),\n",
        "  (\"placeholder\", \"{messages}\"),\n",
        "  (\"placeholder\", \"{agent_scratchpad}\"),\n",
        "])"
      ],
      "metadata": {
        "id": "sOSBH0h-77S8"
      },
      "execution_count": null,
      "outputs": []
    },
    {
      "cell_type": "code",
      "source": [
        "from langchain.tools.retriever import create_retriever_tool\n",
        "\n",
        "filters = {\"VisitID\": \"5fe2b1b5292f0553873da5bfc6ea48a5ab7e31572b4df98cfa7226c278151a31\"}  # Add any metadata filters here\n",
        "\n",
        "\n",
        "retriever_tool = create_retriever_tool(\n",
        "\tretriever=vector_store.as_retriever(\n",
        "\tsearch_type=\"similarity\",\n",
        "\tsearch_kwargs={\n",
        "  \"filter\": filters\n",
        "\t},\n",
        " return_source_documents=True\n",
        "),\n",
        "name=\"pinecone_vectorstore_retriever\",\n",
        "  description=\"Searches and returns contents from uploaded medical document based on user query.\",\n",
        ")\n",
        "\n",
        "tools = [\n",
        "  retriever_tool,\n",
        "  search_tool,\n",
        "]"
      ],
      "metadata": {
        "id": "0QcMy1JH8q0p"
      },
      "execution_count": null,
      "outputs": []
    },
    {
      "cell_type": "code",
      "source": [
        "from langchain.agents import AgentExecutor, create_openai_tools_agent\n",
        "\n",
        "agent = create_openai_tools_agent(llm, tools, prompt)\n",
        "\n",
        "agent_executor = AgentExecutor(\n",
        "  tools=tools,\n",
        "  agent=agent,\n",
        "  verbose=False,\n",
        "  max_iterations=8,\n",
        "  early_stopping_method=\"force\"\n",
        ")"
      ],
      "metadata": {
        "id": "83gOi9bc866a"
      },
      "execution_count": null,
      "outputs": []
    },
    {
      "cell_type": "code",
      "source": [
        "result_q2_background = agent_executor.invoke({\n",
        "  \"user_input\": \"\"\"\n",
        "\n",
        "           Use https://www.mdcalc.com/calc/115/wells-criteria-pulmonary-embolism#when-to-use to determine how to calculate moderate or high pre-test clinical probablity for pulmonary embolism\n",
        "\n",
        "           \"\"\",\n",
        "},)\n",
        "print(result_q2_background[\"output\"])"
      ],
      "metadata": {
        "colab": {
          "base_uri": "https://localhost:8080/"
        },
        "id": "g49TJ27tAEwh",
        "outputId": "f0dbcd63-208f-4a97-c024-0c0f4cc12373"
      },
      "execution_count": null,
      "outputs": [
        {
          "output_type": "stream",
          "name": "stdout",
          "text": [
            "To calculate moderate or high pre-test clinical probability for pulmonary embolism (PE) using the Wells criteria, the following points are considered:\n",
            "\n",
            "1. **Clinical Features**: The Wells criteria assigns points based on specific clinical features. The total score helps categorize the probability of PE:\n",
            "   - **High Probability**: A score of 6 or more.\n",
            "   - **Moderate Probability**: A score of 2 to 6.\n",
            "   - **Low Probability**: A score of less than 2.\n",
            "\n",
            "2. **Criteria for Scoring**:\n",
            "   - Clinical signs and symptoms of deep vein thrombosis (DVT) (3 points)\n",
            "   - An alternative diagnosis less likely than PE (3 points)\n",
            "   - Heart rate greater than 100 beats per minute (1.5 points)\n",
            "   - Immobilization for more than 3 days or surgery in the previous 4 weeks (1.5 points)\n",
            "   - Previous DVT or PE (1.5 points)\n",
            "   - Hemoptysis (1 point)\n",
            "   - Malignancy (1 point)\n",
            "\n",
            "3. **Application**: The Wells criteria should be applied after a thorough history and physical examination suggests that venous thromboembolism is a diagnostic possibility. It should not be applied indiscriminately to all patients presenting with chest pain or dyspnea.\n",
            "\n",
            "For more detailed information, you can refer to the [Wells Criteria for Pulmonary Embolism on MDCalc](https://www.mdcalc.com/calc/115/wells-criteria-pulmonary-embolism).\n"
          ]
        }
      ]
    },
    {
      "cell_type": "markdown",
      "source": [
        "**Using Information from Agent in Prompt for RAG to Answer if Visit Had Moderate to High Probability of PE**"
      ],
      "metadata": {
        "id": "ZCw0xl_oPxVk"
      }
    },
    {
      "cell_type": "code",
      "source": [
        "system_prompt = (\n",
        "    \"\"\"\n",
        "    You are a medical expert specializing in emergency healthcare visits. Your task is to assess whether a patient has a **moderate or high pre-test clinical probability for pulmonary embolism (PE)** based on the **Wells criteria**.\n",
        "\n",
        "### **Instructions:**\n",
        "- Carefully analyze the **context** provided.\n",
        "- Evaluate each criterion **individually** and determine whether it applies.\n",
        "- Clearly state **\"Yes\" or \"No\"**, followed by a **brief, evidence-based reasoning** for your conclusion.\n",
        "\n",
        "### **Wells Criteria for Pre-Test Probability of Pulmonary Embolism (PE):**\n",
        "- **High Probability**: Score ≥6\n",
        "- **Moderate Probability**: Score 2 to 6\n",
        "- **Low Probability**: Score <2\n",
        "\n",
        "#### **Scoring System:**\n",
        "1. Clinical signs and symptoms of deep vein thrombosis (DVT) = 3 points\n",
        "2. Pulmonary embolism (PE) is the #1 diagnosis OR equally likely = 3 points\n",
        "3. Heart rate >100 beats per minute = 1.5 points\n",
        "4. Immobilization for >3 days or recent surgery (past 4 weeks) = 1.5 points\n",
        "5. History of DVT or PE = 1.5 points\n",
        "6. Hemoptysis (coughing up blood) = 1 point\n",
        "7. Malignancy (active cancer or receiving treatment) = 1 point\n",
        "\n",
        "### **Output Format:**\n",
        "- Clearly state \"Yes\" or \"No\", followed by a concise explanation.\n",
        "- If \"Yes,\" provide a breakdown of applicable criteria and total score.\n",
        "- If \"No,\" explain why the patient does not meet the threshold.\n",
        "\n",
        "### **Example Output:\n",
        "Yes. The patient has a swollen leg which is a clinical sign of DVT (3 points), a heart rate of 110 (1.5 points), and a history of PE (1.5 points), leading to a total score of 6, which indicates high probability of PE.\n",
        "\n",
        "OR\n",
        "\n",
        "No. The patient has a Wells score of 1.5 due to immobilization, which falls below the **moderate probability threshold.\n",
        "\n",
        "Use the provided context to justify your answer.\n",
        "\n",
        "{context}\n",
        "\n",
        "    \"\"\"\n",
        ")\n",
        "\n",
        "prompt = ChatPromptTemplate.from_messages(\n",
        "    [\n",
        "        (\"system\", system_prompt),\n",
        "        (\"human\", \"{input}\"),\n",
        "    ]\n",
        ")\n",
        "\n",
        "\n",
        "filters = {\"VisitID\": \"770ea9e81984e345ec06a03a5cafae35ce3798b31c076a2781b3474a2b71b591\"}\n",
        "retriever=vector_store.as_retriever(search_kwargs={\"filter\": filters})\n",
        "question_answer_chain = create_stuff_documents_chain(llm, prompt)\n",
        "rag_chain = create_retrieval_chain(retriever, question_answer_chain)\n",
        "\n",
        "response = rag_chain.invoke({\"input\": \"Does this visit indicate the patient had a moderate or high probability for pulmonary embolism BEFORE any tests were run?\"})\n",
        "response[\"answer\"]"
      ],
      "metadata": {
        "colab": {
          "base_uri": "https://localhost:8080/",
          "height": 143
        },
        "id": "zhd6bbq3si1w",
        "outputId": "0434bd14-6f1f-4e9f-815f-00d2a1dbdc85"
      },
      "execution_count": null,
      "outputs": [
        {
          "output_type": "execute_result",
          "data": {
            "text/plain": [
              "\"No. The patient does not meet the criteria for moderate or high probability for pulmonary embolism (PE) based on the Wells criteria. \\n\\n### Breakdown of Criteria:\\n1. **Clinical signs and symptoms of deep vein thrombosis (DVT)**: No evidence of DVT was mentioned.\\n2. **Pulmonary embolism (PE) is the #1 diagnosis OR equally likely**: The differential diagnosis includes PE but does not indicate it as the primary diagnosis.\\n3. **Heart rate >100 beats per minute**: The patient's pulse was recorded at 69-75 beats per minute, which does not meet this criterion.\\n4. **Immobilization for >3 days or recent surgery (past 4 weeks)**: No mention of recent immobilization or surgery.\\n5. **History of DVT or PE**: The patient has a history of PE, which would score 1.5 points.\\n6. **Hemoptysis (coughing up blood)**: No hemoptysis was reported.\\n7. **Malignancy (active cancer or receiving treatment)**: No mention of malignancy.\\n\\n### Total Score:\\n- History of DVT or PE: 1.5 points\\n\\nThe total score is 1.5, which falls below the moderate probability threshold (2 points). Therefore, the patient had a low probability for PE before any tests were run.\""
            ],
            "application/vnd.google.colaboratory.intrinsic+json": {
              "type": "string"
            }
          },
          "metadata": {},
          "execution_count": 20
        }
      ]
    },
    {
      "cell_type": "markdown",
      "source": [
        "**Looping Through Filtered Visits**"
      ],
      "metadata": {
        "id": "b4QPcO5cP1F-"
      }
    },
    {
      "cell_type": "code",
      "source": [
        "visit_ids = list(visits_for_rag['VisitKey_hashed'])\n",
        "# Initialize a results list\n",
        "results = []\n",
        "\n",
        "# Loop over each VisitID\n",
        "for visit_id in visit_ids:\n",
        "    # Dynamically update the filter\n",
        "    filters = {\"VisitID\": visit_id}\n",
        "\n",
        "    # Create retriever with updated filter\n",
        "    retriever = vector_store.as_retriever(search_kwargs={\"filter\": filters})\n",
        "\n",
        "    # Create and run the RAG chain\n",
        "    question_answer_chain = create_stuff_documents_chain(llm, prompt)\n",
        "    rag_chain = create_retrieval_chain(retriever, question_answer_chain)\n",
        "\n",
        "    # Invoke the chain with the input question\n",
        "    response = rag_chain.invoke({\"input\": \"Does this visit indicate the patient had moderate or high clinical probability for pulmonary embolism BEFORE any tests were run?\"})\n",
        "\n",
        "    # Store the result\n",
        "    results.append({\"VisitID\": visit_id, \"Answer 1\": response[\"answer\"]})"
      ],
      "metadata": {
        "id": "5KTd2lY5L9jv"
      },
      "execution_count": null,
      "outputs": []
    },
    {
      "cell_type": "code",
      "source": [
        "question_1_results = pd.DataFrame(results)"
      ],
      "metadata": {
        "id": "1_tJpxCJMwHu"
      },
      "execution_count": null,
      "outputs": []
    },
    {
      "cell_type": "markdown",
      "source": [
        "**Using RAG to Answer if Visit Had Elevated D-Dimer levels**"
      ],
      "metadata": {
        "id": "n4BHB2wpP5iA"
      }
    },
    {
      "cell_type": "code",
      "source": [
        "system_prompt = (\n",
        "    \"\"\"\n",
        "    You are a highly skilled medical expert specializing in emergency healthcare.\n",
        "    Your task is to analyze medical notes from emergency health visits and provide precise, evidence-based answers.\n",
        "\n",
        "    Instructions:\n",
        "    - Carefully analyze the context and question before responding.\n",
        "    - Answer in the following format:\n",
        "      - Start with \"Yes.\" or \"No.\"\n",
        "      - Provide a clear, concise medical explanation for your answer.\n",
        "      - If applicable, cite relevant clinical findings or reasoning from the provided context.\n",
        "\n",
        "    Context:\n",
        "    {context}\n",
        "\n",
        "    \"\"\"\n",
        ")\n",
        "\n",
        "prompt = ChatPromptTemplate.from_messages(\n",
        "    [\n",
        "        (\"system\", system_prompt),\n",
        "        (\"human\", \"{input}\"),\n",
        "    ]\n",
        ")\n",
        "\n",
        "\n",
        "filters = {\"VisitID\": \"5fe2b1b5292f0553873da5bfc6ea48a5ab7e31572b4df98cfa7226c278151a31\"}\n",
        "retriever=vector_store.as_retriever(search_kwargs={\"filter\": filters})\n",
        "question_answer_chain = create_stuff_documents_chain(llm, prompt)\n",
        "rag_chain = create_retrieval_chain(retriever, question_answer_chain)\n",
        "\n",
        "response = rag_chain.invoke({\"input\": \"Does this visit indicate the patient had elevated d-dimer levels?\"})\n",
        "response[\"answer\"]"
      ],
      "metadata": {
        "colab": {
          "base_uri": "https://localhost:8080/",
          "height": 71
        },
        "id": "gai7l-z7VMb6",
        "outputId": "16bd2df8-ae90-467f-b30a-ed720e1f3d54"
      },
      "execution_count": null,
      "outputs": [
        {
          "output_type": "execute_result",
          "data": {
            "text/plain": [
              "\"No. \\n\\nThe provided medical notes do not mention any d-dimer levels or tests performed related to d-dimer. The focus of the notes is on the patient's chest pain, past medical history, and results from imaging and lab tests, but there is no indication of a d-dimer test being conducted or its results. Elevated d-dimer levels are typically associated with conditions such as pulmonary embolism or deep vein thrombosis, which are not indicated in this patient's evaluation.\""
            ],
            "application/vnd.google.colaboratory.intrinsic+json": {
              "type": "string"
            }
          },
          "metadata": {},
          "execution_count": 23
        }
      ]
    },
    {
      "cell_type": "markdown",
      "source": [
        "**Looping Through Filtered Visits**"
      ],
      "metadata": {
        "id": "dr0ZafToQNyW"
      }
    },
    {
      "cell_type": "code",
      "source": [
        "visit_ids = list(visits_for_rag['VisitKey_hashed'])\n",
        "# Initialize a results list\n",
        "q2_results = []\n",
        "\n",
        "# Loop over each VisitID\n",
        "for visit_id in visit_ids:\n",
        "    # Dynamically update the filter\n",
        "    filters = {\"VisitID\": visit_id}\n",
        "\n",
        "    # Create retriever with updated filter\n",
        "    retriever = vector_store.as_retriever(search_kwargs={\"filter\": filters})\n",
        "\n",
        "    # Create and run the RAG chain\n",
        "    question_answer_chain = create_stuff_documents_chain(llm, prompt)\n",
        "    rag_chain = create_retrieval_chain(retriever, question_answer_chain)\n",
        "\n",
        "    # Invoke the chain with the input question\n",
        "    response = rag_chain.invoke({\"input\": \"Does this visit indicate the patient had elevated d-dimer levels?\"})\n",
        "\n",
        "    # Store the result\n",
        "    q2_results.append({\"VisitID\": visit_id, \"Answer 2\": response[\"answer\"]})"
      ],
      "metadata": {
        "id": "53uJICOPkKE0"
      },
      "execution_count": null,
      "outputs": []
    },
    {
      "cell_type": "code",
      "source": [
        "question_2_results = pd.DataFrame(q2_results)"
      ],
      "metadata": {
        "id": "SLSfPPmtlpPt"
      },
      "execution_count": null,
      "outputs": []
    },
    {
      "cell_type": "code",
      "source": [
        "question1_2 = question_1_results.merge(question_2_results, on=\"VisitID\", how=\"inner\")"
      ],
      "metadata": {
        "id": "kPKYq7A9lzF2"
      },
      "execution_count": null,
      "outputs": []
    },
    {
      "cell_type": "code",
      "source": [
        "# Filter rows where both \"Answer 1\" and \"Answer 2\" start with \"No\"\n",
        "question1_2_filtered = question1_2[\n",
        "    question1_2[\"Answer 1\"].str.startswith(\"No\") & question1_2[\"Answer 2\"].str.startswith(\"No\")\n",
        "]"
      ],
      "metadata": {
        "id": "94gwK_GWmUTL"
      },
      "execution_count": null,
      "outputs": []
    },
    {
      "cell_type": "markdown",
      "source": [
        "**Using the Agent to Provide Background on Next Question**"
      ],
      "metadata": {
        "id": "EipSsXiFQUYu"
      }
    },
    {
      "cell_type": "code",
      "source": [
        "result_q3_background = agent_executor.invoke({\n",
        "  \"user_input\": \"\"\"\n",
        "\n",
        "           Use md.calc to determine some medical reasons for ordering a CTPA WITHOUT moderate or high pre-test clinical probability for pulmonary embolism or no positive result of elevated D-dimer level (e.g., CT ordered for aortic dissection)\n",
        "\n",
        "           \"\"\",\n",
        "},)"
      ],
      "metadata": {
        "colab": {
          "base_uri": "https://localhost:8080/"
        },
        "id": "YJGzDCeMoiVh",
        "outputId": "88fbc322-21aa-4842-b424-7837f212ce45"
      },
      "execution_count": null,
      "outputs": [
        {
          "output_type": "stream",
          "name": "stdout",
          "text": [
            "To calculate moderate or high pre-test clinical probability for pulmonary embolism (PE) using the Wells criteria, the following points are considered:\n",
            "\n",
            "1. **Clinical Features**: The Wells criteria assigns points based on specific clinical features. The total score helps categorize the probability of PE:\n",
            "   - **High Probability**: A score of 6 or more.\n",
            "   - **Moderate Probability**: A score of 2 to 6.\n",
            "   - **Low Probability**: A score of less than 2.\n",
            "\n",
            "2. **Criteria for Scoring**:\n",
            "   - Clinical signs and symptoms of deep vein thrombosis (DVT) (3 points)\n",
            "   - An alternative diagnosis less likely than PE (3 points)\n",
            "   - Heart rate greater than 100 beats per minute (1.5 points)\n",
            "   - Immobilization for more than 3 days or surgery in the previous 4 weeks (1.5 points)\n",
            "   - Previous DVT or PE (1.5 points)\n",
            "   - Hemoptysis (1 point)\n",
            "   - Malignancy (1 point)\n",
            "\n",
            "3. **Application**: The Wells criteria should be applied after a thorough history and physical examination suggests that venous thromboembolism is a diagnostic possibility. It should not be applied indiscriminately to all patients presenting with chest pain or dyspnea.\n",
            "\n",
            "For more detailed information, you can refer to the [Wells Criteria for Pulmonary Embolism on MDCalc](https://www.mdcalc.com/calc/115/wells-criteria-pulmonary-embolism).\n"
          ]
        }
      ]
    },
    {
      "cell_type": "code",
      "source": [
        "result_q3_background[\"output\"]"
      ],
      "metadata": {
        "colab": {
          "base_uri": "https://localhost:8080/",
          "height": 244
        },
        "id": "OM2SOm8Jo-k0",
        "outputId": "12362b0d-f14f-4fb7-d3dc-1d786776da96"
      },
      "execution_count": null,
      "outputs": [
        {
          "output_type": "execute_result",
          "data": {
            "text/plain": [
              "'Computed Tomography Pulmonary Angiography (CTPA) can be ordered for various medical reasons even when there is no moderate or high pre-test clinical probability for pulmonary embolism (PE) or when D-dimer levels are not elevated. Here are some indications based on the context and additional information:\\n\\n1. **Aortic Dissection**: CTPA is often utilized to evaluate suspected aortic dissection. In cases where a patient presents with chest pain and \"kidney pain,\" as noted in the medical history, aortic dissection becomes a differential diagnosis. The imaging can help rule out or confirm the presence of an aortic dissection.\\n\\n2. **Other Vascular Conditions**: CTPA can be used to assess other vascular conditions, such as pulmonary artery anomalies or other thoracic vascular pathologies, which may not be directly related to PE.\\n\\n3. **Chest Pain Evaluation**: In patients presenting with chest pain, CTPA can be part of a broader diagnostic workup to exclude other serious conditions, such as aortic aneurysm or other thoracic masses, even if the likelihood of PE is low.\\n\\n4. **Negative Findings in Other Tests**: If initial tests (like EKG or chest X-ray) are inconclusive or negative, and the clinical suspicion for other conditions remains high, CTPA may be warranted to provide further clarity.\\n\\n5. **Low Pre-test Probability**: In cases where the pre-test probability for PE is low, but there are other compelling clinical reasons (like significant risk factors or atypical presentations), CTPA can still be justified to ensure that no serious conditions are overlooked.\\n\\nIn the provided medical note, the patient was evaluated for chest pain and \"kidney pain,\" and a CTPA was ordered to rule out aortic dissection, which is a valid reason for performing the test despite the absence of high pre-test probability for PE. The CTPA results indicated no acute findings related to aortic pathology, confirming the rationale for the imaging.\\n\\nThis information is derived from the context of the medical note and general clinical practices regarding the use of CTPA.'"
            ],
            "application/vnd.google.colaboratory.intrinsic+json": {
              "type": "string"
            }
          },
          "metadata": {},
          "execution_count": 150
        }
      ]
    },
    {
      "cell_type": "markdown",
      "source": [
        "**Using the info from the agent to answer if the visit has another medical reason for ordering a CTPA scan**"
      ],
      "metadata": {
        "id": "bc3NWaG5QbNm"
      }
    },
    {
      "cell_type": "code",
      "source": [
        "system_prompt = (\n",
        "    \"\"\"\n",
        "    You are a medical expert specializing in emergency healthcare.\n",
        "    Your task is to analyze medical notes from emergency health visits and provide precise, evidence-based answers.\n",
        "\n",
        "    Instructions:\n",
        "    - Carefully analyze the context and question before responding.\n",
        "    - Answer in the following format:\n",
        "      - Start with \"Yes.\" or \"No.\"\n",
        "      - Provide a clear, concise medical explanation for your answer.\n",
        "\n",
        "    Medical Background:\n",
        "    Computed Tomography Pulmonary Angiography (CTPA) can be ordered for various medical reasons even when there is no moderate or high pre-test clinical probability for pulmonary embolism (PE) or when D-dimer levels are not elevated.\n",
        "    Here are some indications based on the context from MdCalc:\n",
        "    **Aortic Dissection**: CTPA is often utilized to evaluate suspected aortic dissection.\n",
        "    In cases where a patient presents with chest pain and kidney pain, aortic dissection becomes a differential diagnosis.\n",
        "    The imaging can help rule out or confirm the presence of an aortic dissection.\n",
        "    **Other Vascular Conditions**: CTPA can be used to assess other vascular conditions, such as pulmonary artery anomalies or other thoracic vascular pathologies, which may not be directly related to PE.\n",
        "    **Chest Pain Evaluation**: In patients presenting with chest pain, CTPA can be part of a broader diagnostic workup to exclude other serious conditions, such as aortic aneurysm or other thoracic masses, even if the likelihood of PE is low.\n",
        "    **Negative Findings in Other Tests**: If initial tests (like EKG or chest X-ray) are inconclusive or negative, and the clinical suspicion for other conditions remains high, CTPA may be warranted to provide further clarity.\n",
        "\n",
        "    Context:\n",
        "    {context}\n",
        "\n",
        "    \"\"\"\n",
        ")\n",
        "\n",
        "prompt = ChatPromptTemplate.from_messages(\n",
        "    [\n",
        "        (\"system\", system_prompt),\n",
        "        (\"human\", \"{input}\"),\n",
        "    ]\n",
        ")\n",
        "\n",
        "\n",
        "filters = {\"VisitID\": \"d7723343f73d5c6b8fcdd8721156e4f26b6021b2485899ca5bc8a12554cf4dce\"}\n",
        "retriever=vector_store.as_retriever(search_kwargs={\"filter\": filters})\n",
        "question_answer_chain = create_stuff_documents_chain(llm, prompt)\n",
        "rag_chain = create_retrieval_chain(retriever, question_answer_chain)\n",
        "\n",
        "response = rag_chain.invoke({\"input\": \"Does this visit indicate there was a medical reason for ordering a CTPA WITHOUT having a moderate or high pre-test clinical probability for pulmonary embolism or a positive result of elevated D-dimer level?\"})\n",
        "response[\"answer\"]"
      ],
      "metadata": {
        "colab": {
          "base_uri": "https://localhost:8080/",
          "height": 89
        },
        "id": "33gpwp0DnB45",
        "outputId": "5d36f660-fda0-4052-a250-07573605da0b"
      },
      "execution_count": null,
      "outputs": [
        {
          "output_type": "execute_result",
          "data": {
            "text/plain": [
              "\"Yes. The visit indicates a medical reason for ordering a CTPA without having a moderate or high pre-test clinical probability for pulmonary embolism or a positive result of elevated D-dimer levels. The presence of right-sided facial bone fractures and a tiny pneumothorax, along with the patient's trauma history, suggests the need to evaluate for other serious conditions, such as aortic dissection or other vascular injuries, which can be assessed using CTPA. This imaging can help rule out or confirm these conditions even in the absence of elevated D-dimer levels or high clinical suspicion for PE.\""
            ],
            "application/vnd.google.colaboratory.intrinsic+json": {
              "type": "string"
            }
          },
          "metadata": {},
          "execution_count": 29
        }
      ]
    },
    {
      "cell_type": "markdown",
      "source": [
        "**Looping Through Filtered Visits**"
      ],
      "metadata": {
        "id": "5Qm268MkQj-2"
      }
    },
    {
      "cell_type": "code",
      "source": [
        "visit_ids = list(question1_2_filtered['VisitID'])\n",
        "# Initialize a results list\n",
        "q3_results = []\n",
        "\n",
        "# Loop over each VisitID\n",
        "for visit_id in visit_ids:\n",
        "    # Dynamically update the filter\n",
        "    filters = {\"VisitID\": visit_id}\n",
        "\n",
        "    # Create retriever with updated filter\n",
        "    retriever = vector_store.as_retriever(search_kwargs={\"filter\": filters})\n",
        "\n",
        "    # Create and run the RAG chain\n",
        "    question_answer_chain = create_stuff_documents_chain(llm, prompt)\n",
        "    rag_chain = create_retrieval_chain(retriever, question_answer_chain)\n",
        "\n",
        "    # Invoke the chain with the input question\n",
        "    response = rag_chain.invoke({\"input\": \"Does this visit indicate there was a medical reason for ordering a CTPA WITHOUT having a moderate or high pre-test clinical probability for pulmonary embolism or a positive result of elevated D-dimer level?\"})\n",
        "\n",
        "    # Store the result\n",
        "    q3_results.append({\"VisitID\": visit_id, \"Answer 3\": response[\"answer\"]})"
      ],
      "metadata": {
        "id": "joKLXoLfrDuj"
      },
      "execution_count": null,
      "outputs": []
    },
    {
      "cell_type": "code",
      "source": [
        "question_3_results = pd.DataFrame(q3_results)"
      ],
      "metadata": {
        "id": "LzF3ksu5tS6A"
      },
      "execution_count": null,
      "outputs": []
    },
    {
      "cell_type": "markdown",
      "source": [
        "**Using RAG To see if the CT Scan was ordered due to trauma or injury**"
      ],
      "metadata": {
        "id": "AcfoJOV9QqJH"
      }
    },
    {
      "cell_type": "code",
      "source": [
        "system_prompt = (\n",
        "    \"\"\"\n",
        "    You are a highly skilled medical expert specializing in emergency healthcare.\n",
        "    Your task is to analyze medical notes from emergency health visits and provide precise, evidence-based answers.\n",
        "\n",
        "    Instructions:\n",
        "    - Carefully analyze the context and question before responding.\n",
        "    - Answer in the following format:\n",
        "      - Start with \"Yes.\" or \"No.\"\n",
        "      - Provide a clear, concise medical explanation for your answer.\n",
        "      - If applicable, cite relevant clinical findings or reasoning from the provided context.\n",
        "\n",
        "    Context:\n",
        "    {context}\n",
        "\n",
        "    \"\"\"\n",
        ")\n",
        "\n",
        "prompt = ChatPromptTemplate.from_messages(\n",
        "    [\n",
        "        (\"system\", system_prompt),\n",
        "        (\"human\", \"{input}\"),\n",
        "    ]\n",
        ")\n",
        "\n",
        "\n",
        "filters = {\"VisitID\": \"d7723343f73d5c6b8fcdd8721156e4f26b6021b2485899ca5bc8a12554cf4dce\"}\n",
        "retriever=vector_store.as_retriever(search_kwargs={\"filter\": filters})\n",
        "question_answer_chain = create_stuff_documents_chain(llm, prompt)\n",
        "rag_chain = create_retrieval_chain(retriever, question_answer_chain)\n",
        "\n",
        "response = rag_chain.invoke({\"input\": \"Does this visit indicate the patient had the CTPA ordered for trauma or dangerous mechanism of injury?\"})\n",
        "response[\"answer\"]"
      ],
      "metadata": {
        "colab": {
          "base_uri": "https://localhost:8080/",
          "height": 89
        },
        "id": "MD8bpLefpvFE",
        "outputId": "fd348c5c-4907-411a-8227-850897f3d541"
      },
      "execution_count": null,
      "outputs": [
        {
          "output_type": "execute_result",
          "data": {
            "text/plain": [
              "\"Yes. The visit indicates that a CTA (CT Angiography) of the head and neck was ordered, which is typically performed in cases of trauma or dangerous mechanisms of injury to assess for vascular injuries, such as major vessel occlusions or significant carotid stenosis. The patient's presentation of thoracic and intra-abdominal injuries, along with facial bone fractures and a history of being a pedestrian injured in traffic, supports the need for such imaging to evaluate potential vascular compromise.\""
            ],
            "application/vnd.google.colaboratory.intrinsic+json": {
              "type": "string"
            }
          },
          "metadata": {},
          "execution_count": 33
        }
      ]
    },
    {
      "cell_type": "markdown",
      "source": [
        "**Looping Through Visits**"
      ],
      "metadata": {
        "id": "3zY7PgnAQyq5"
      }
    },
    {
      "cell_type": "code",
      "source": [
        "visit_ids = list(visits_for_rag['VisitKey_hashed'])\n",
        "# Initialize a results list\n",
        "q4_results = []\n",
        "\n",
        "# Loop over each VisitID\n",
        "for visit_id in visit_ids:\n",
        "    # Dynamically update the filter\n",
        "    filters = {\"VisitID\": visit_id}\n",
        "\n",
        "    # Create retriever with updated filter\n",
        "    retriever = vector_store.as_retriever(search_kwargs={\"filter\": filters})\n",
        "\n",
        "    # Create and run the RAG chain\n",
        "    question_answer_chain = create_stuff_documents_chain(llm, prompt)\n",
        "    rag_chain = create_retrieval_chain(retriever, question_answer_chain)\n",
        "\n",
        "    # Invoke the chain with the input question\n",
        "    response = rag_chain.invoke({\"input\": \"Does this visit indicate the patient had the CTPA ordered for trauma or dangerous mechanism of injury?\"})\n",
        "\n",
        "    # Store the result\n",
        "    q4_results.append({\"VisitID\": visit_id, \"Answer 4\": response[\"answer\"]})"
      ],
      "metadata": {
        "id": "5DjThOE2qyCR"
      },
      "execution_count": null,
      "outputs": []
    },
    {
      "cell_type": "code",
      "source": [
        "question_4_results = pd.DataFrame(q4_results)"
      ],
      "metadata": {
        "id": "HPB0fKLYrPiD"
      },
      "execution_count": null,
      "outputs": []
    },
    {
      "cell_type": "markdown",
      "source": [
        "**Using RAG to see if the patient was pregnant**"
      ],
      "metadata": {
        "id": "OJvYYG8lQ2fu"
      }
    },
    {
      "cell_type": "code",
      "source": [
        "system_prompt = (\n",
        "    \"\"\"\n",
        "    You are a highly skilled medical expert specializing in emergency healthcare.\n",
        "    Your task is to analyze medical notes from emergency health visits and provide precise, evidence-based answers.\n",
        "\n",
        "    Instructions:\n",
        "    - Carefully analyze the context and question before responding.\n",
        "    - Answer in the following format:\n",
        "      - Start with \"Yes.\" or \"No.\"\n",
        "      - Provide a clear, concise medical explanation for your answer.\n",
        "      - If applicable, cite relevant clinical findings or reasoning from the provided context.\n",
        "\n",
        "    Context:\n",
        "    {context}\n",
        "\n",
        "    \"\"\"\n",
        ")\n",
        "\n",
        "prompt = ChatPromptTemplate.from_messages(\n",
        "    [\n",
        "        (\"system\", system_prompt),\n",
        "        (\"human\", \"{input}\"),\n",
        "    ]\n",
        ")\n",
        "\n",
        "\n",
        "filters = {\"VisitID\": \"28fcf4acc3d147ae1d38826ee98bcfd1738a1aab5e7ef93151d50c755f254695\"}\n",
        "retriever=vector_store.as_retriever(search_kwargs={\"filter\": filters})\n",
        "question_answer_chain = create_stuff_documents_chain(llm, prompt)\n",
        "rag_chain = create_retrieval_chain(retriever, question_answer_chain)\n",
        "\n",
        "response = rag_chain.invoke({\"input\": \"Does this visit indicate the patient was pregnant?\"})\n",
        "response[\"answer\"]"
      ],
      "metadata": {
        "colab": {
          "base_uri": "https://localhost:8080/",
          "height": 53
        },
        "id": "aNNFgsvQrr_E",
        "outputId": "14b83309-4a26-4a63-c879-1fbdbd695959"
      },
      "execution_count": null,
      "outputs": [
        {
          "output_type": "execute_result",
          "data": {
            "text/plain": [
              "\"No. The provided medical notes do not indicate any information regarding the patient's pregnancy status. There are no mentions of pregnancy-related symptoms, history, or tests that would suggest the patient is pregnant.\""
            ],
            "application/vnd.google.colaboratory.intrinsic+json": {
              "type": "string"
            }
          },
          "metadata": {},
          "execution_count": 36
        }
      ]
    },
    {
      "cell_type": "markdown",
      "source": [
        "**Looping through the Visits**"
      ],
      "metadata": {
        "id": "X9BZeLtlQ7EA"
      }
    },
    {
      "cell_type": "code",
      "source": [
        "visit_ids = list(visits_for_rag['VisitKey_hashed'])\n",
        "# Initialize a results list\n",
        "q5_results = []\n",
        "\n",
        "# Loop over each VisitID\n",
        "for visit_id in visit_ids:\n",
        "    # Dynamically update the filter\n",
        "    filters = {\"VisitID\": visit_id}\n",
        "\n",
        "    # Create retriever with updated filter\n",
        "    retriever = vector_store.as_retriever(search_kwargs={\"filter\": filters})\n",
        "\n",
        "    # Create and run the RAG chain\n",
        "    question_answer_chain = create_stuff_documents_chain(llm, prompt)\n",
        "    rag_chain = create_retrieval_chain(retriever, question_answer_chain)\n",
        "\n",
        "    # Invoke the chain with the input question\n",
        "    response = rag_chain.invoke({\"input\": \"Does this visit indicate the patient was pregnant?\"})\n",
        "\n",
        "    # Store the result\n",
        "    q5_results.append({\"VisitID\": visit_id, \"Answer 5\": response[\"answer\"]})"
      ],
      "metadata": {
        "id": "nh9d9gsxsI_7"
      },
      "execution_count": null,
      "outputs": []
    },
    {
      "cell_type": "code",
      "source": [
        "question_5_results = pd.DataFrame(q5_results)"
      ],
      "metadata": {
        "id": "utpa4x15sUlT"
      },
      "execution_count": null,
      "outputs": []
    },
    {
      "cell_type": "markdown",
      "source": [
        "**Merging all The Answers and Assigning Points to Responses 'Yes = 1, No = 0'**"
      ],
      "metadata": {
        "id": "DCsvc-S5RHQ9"
      }
    },
    {
      "cell_type": "code",
      "source": [
        "acep_22_answers = question_1_results.merge(question_2_results, on=\"VisitID\", how=\"inner\")\\\n",
        "               .merge(question_3_results, on=\"VisitID\", how=\"left\")\\\n",
        "               .merge(question_4_results, on=\"VisitID\", how=\"inner\")\\\n",
        "               .merge(question_5_results, on=\"VisitID\", how=\"inner\")"
      ],
      "metadata": {
        "id": "Su0OoeVStYpe"
      },
      "execution_count": null,
      "outputs": []
    },
    {
      "cell_type": "code",
      "source": [
        "columns_to_clean = [\"Answer 1\", \"Answer 2\", \"Answer 3\", \"Answer 4\", \"Answer 5\"]\n",
        "\n",
        "# Remove '\\n' from specified columns\n",
        "acep_22_answers[columns_to_clean] = acep_22_answers[columns_to_clean].apply(lambda x: x.str.replace(\"\\n\", \" \", regex=True))"
      ],
      "metadata": {
        "id": "nWgvwD2KwHdS"
      },
      "execution_count": null,
      "outputs": []
    },
    {
      "cell_type": "code",
      "source": [
        "acep_22_answers = acep_22_answers.merge(notes, left_on=\"VisitID\", right_on=\"USACSKEY_hashed\", how=\"inner\")\n"
      ],
      "metadata": {
        "id": "TtirMd_zwVcU"
      },
      "execution_count": null,
      "outputs": []
    },
    {
      "cell_type": "code",
      "source": [
        "acep_22_answers = acep_22_answers[['VisitID','NoteTextCombined','Answer 1','Answer 2','Answer 3','Answer 4','Answer 5']]"
      ],
      "metadata": {
        "id": "ilTAdaWPxh9G"
      },
      "execution_count": null,
      "outputs": []
    },
    {
      "cell_type": "code",
      "source": [
        "acep_22_answers.to_csv(\"/content/drive/MyDrive/Data/acep_22_answers.csv\")"
      ],
      "metadata": {
        "id": "_-WpvjLfyBT-"
      },
      "execution_count": null,
      "outputs": []
    },
    {
      "cell_type": "code",
      "source": [
        "# Define the columns to check\n",
        "columns_to_check = [\"Answer 3\", \"Answer 4\", \"Answer 5\"]\n",
        "\n",
        "# Create the new column with the fixed logic\n",
        "acep_22_answers[\"Denominator\"] = acep_22_answers[columns_to_check].apply(\n",
        "    lambda row: 0 if any(str(row[col]).startswith(\"Yes\") for col in columns_to_check) else 1, axis=1\n",
        ")"
      ],
      "metadata": {
        "id": "D32JZKiv5Ixt"
      },
      "execution_count": null,
      "outputs": []
    },
    {
      "cell_type": "code",
      "source": [
        "# Define the columns to check\n",
        "columns_to_check = [\"Answer 1\", \"Answer 2\"]\n",
        "\n",
        "# Create the new column with the fixed logic\n",
        "acep_22_answers[\"Numerator\"] = acep_22_answers[columns_to_check].apply(\n",
        "    lambda row: 1 if any(str(row[col]).startswith(\"Yes\") for col in columns_to_check) else 0, axis=1\n",
        ")"
      ],
      "metadata": {
        "id": "FFW54xB76MoE"
      },
      "execution_count": null,
      "outputs": []
    },
    {
      "cell_type": "code",
      "source": [
        "acep_22_answers.to_csv(\"/content/drive/MyDrive/Data/acep_22_answers.csv\")"
      ],
      "metadata": {
        "id": "pJ9xFuDL7iTh"
      },
      "execution_count": null,
      "outputs": []
    },
    {
      "cell_type": "code",
      "source": [],
      "metadata": {
        "id": "uDbXUTlISpS7"
      },
      "execution_count": null,
      "outputs": []
    }
  ]
}